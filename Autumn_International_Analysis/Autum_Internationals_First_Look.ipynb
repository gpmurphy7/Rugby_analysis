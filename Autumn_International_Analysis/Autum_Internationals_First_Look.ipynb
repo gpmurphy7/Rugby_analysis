{
 "cells": [
  {
   "cell_type": "code",
   "execution_count": 144,
   "metadata": {
    "collapsed": true
   },
   "outputs": [],
   "source": [
    "import numpy as np\n",
    "import pandas as pd\n",
    "from matplotlib import pyplot as plt\n",
    "import seaborn as sns\n",
    "from datetime import datetime\n",
    "%matplotlib inline\n",
    "import matplotlib as mpl\n"
   ]
  },
  {
   "cell_type": "code",
   "execution_count": 145,
   "metadata": {
    "collapsed": true
   },
   "outputs": [],
   "source": [
    "df = pd.read_csv(\"data/AI_raw_data.txt\",header = 0, delimiter = '\\t' )"
   ]
  },
  {
   "cell_type": "markdown",
   "metadata": {},
   "source": [
    "# Data Prep"
   ]
  },
  {
   "cell_type": "code",
   "execution_count": 146,
   "metadata": {
    "collapsed": false
   },
   "outputs": [
    {
     "data": {
      "text/html": [
       "<div>\n",
       "<style>\n",
       "    .dataframe thead tr:only-child th {\n",
       "        text-align: right;\n",
       "    }\n",
       "\n",
       "    .dataframe thead th {\n",
       "        text-align: left;\n",
       "    }\n",
       "\n",
       "    .dataframe tbody tr th {\n",
       "        vertical-align: top;\n",
       "    }\n",
       "</style>\n",
       "<table border=\"1\" class=\"dataframe\">\n",
       "  <thead>\n",
       "    <tr style=\"text-align: right;\">\n",
       "      <th></th>\n",
       "      <th>Date</th>\n",
       "      <th>Tourn</th>\n",
       "      <th>Rnd</th>\n",
       "      <th>Match</th>\n",
       "      <th>Score</th>\n",
       "      <th>Tries</th>\n",
       "      <th>Pnts</th>\n",
       "      <th>Venue</th>\n",
       "      <th>Neut.</th>\n",
       "    </tr>\n",
       "  </thead>\n",
       "  <tbody>\n",
       "    <tr>\n",
       "      <th>0</th>\n",
       "      <td>Sat, 03 Dec 2016</td>\n",
       "      <td>AI,CC</td>\n",
       "      <td>e</td>\n",
       "      <td>ENG v AUS</td>\n",
       "      <td>37-21</td>\n",
       "      <td>4:2</td>\n",
       "      <td>5-0</td>\n",
       "      <td>Twickenham, London</td>\n",
       "      <td>NaN</td>\n",
       "    </tr>\n",
       "    <tr>\n",
       "      <th>1</th>\n",
       "      <td>Sat, 26 Nov 2016</td>\n",
       "      <td>AI,DG</td>\n",
       "      <td>NaN</td>\n",
       "      <td>FRA v NZL</td>\n",
       "      <td>19-24</td>\n",
       "      <td>1:3</td>\n",
       "      <td>1-4</td>\n",
       "      <td>Stade de France, Paris</td>\n",
       "      <td>NaN</td>\n",
       "    </tr>\n",
       "    <tr>\n",
       "      <th>2</th>\n",
       "      <td>Sat, 26 Nov 2016</td>\n",
       "      <td>AI</td>\n",
       "      <td>NaN</td>\n",
       "      <td>IRE v AUS</td>\n",
       "      <td>27-24</td>\n",
       "      <td>3:3</td>\n",
       "      <td>4-1</td>\n",
       "      <td>Lansdowne Rd, Dublin</td>\n",
       "      <td>NaN</td>\n",
       "    </tr>\n",
       "    <tr>\n",
       "      <th>3</th>\n",
       "      <td>Sat, 26 Nov 2016</td>\n",
       "      <td>AI</td>\n",
       "      <td>NaN</td>\n",
       "      <td>WAL v SAF</td>\n",
       "      <td>27-13</td>\n",
       "      <td>2:1</td>\n",
       "      <td>4-0</td>\n",
       "      <td>Millennium Stadium, Cardiff</td>\n",
       "      <td>NaN</td>\n",
       "    </tr>\n",
       "    <tr>\n",
       "      <th>4</th>\n",
       "      <td>Sat, 26 Nov 2016</td>\n",
       "      <td>AI</td>\n",
       "      <td>NaN</td>\n",
       "      <td>ENG v ARG</td>\n",
       "      <td>27-14</td>\n",
       "      <td>2:2</td>\n",
       "      <td>4-0</td>\n",
       "      <td>Twickenham, London</td>\n",
       "      <td>NaN</td>\n",
       "    </tr>\n",
       "  </tbody>\n",
       "</table>\n",
       "</div>"
      ],
      "text/plain": [
       "               Date  Tourn  Rnd      Match  Score Tries Pnts  \\\n",
       "0  Sat, 03 Dec 2016  AI,CC    e  ENG v AUS  37-21   4:2  5-0   \n",
       "1  Sat, 26 Nov 2016  AI,DG  NaN  FRA v NZL  19-24   1:3  1-4   \n",
       "2  Sat, 26 Nov 2016     AI  NaN  IRE v AUS  27-24   3:3  4-1   \n",
       "3  Sat, 26 Nov 2016     AI  NaN  WAL v SAF  27-13   2:1  4-0   \n",
       "4  Sat, 26 Nov 2016     AI  NaN  ENG v ARG  27-14   2:2  4-0   \n",
       "\n",
       "                         Venue Neut.  \n",
       "0           Twickenham, London   NaN  \n",
       "1       Stade de France, Paris   NaN  \n",
       "2         Lansdowne Rd, Dublin   NaN  \n",
       "3  Millennium Stadium, Cardiff   NaN  \n",
       "4           Twickenham, London   NaN  "
      ]
     },
     "execution_count": 146,
     "metadata": {},
     "output_type": "execute_result"
    }
   ],
   "source": [
    "df.head()"
   ]
  },
  {
   "cell_type": "code",
   "execution_count": 147,
   "metadata": {
    "collapsed": false
   },
   "outputs": [],
   "source": [
    "df['Home Team'], df['Away Team'] = df['Match'].str.split('v').str"
   ]
  },
  {
   "cell_type": "code",
   "execution_count": 148,
   "metadata": {
    "collapsed": true
   },
   "outputs": [],
   "source": [
    "df['Home Score'], df['Away Score'] = df['Score'].str.split('-').str\n",
    "df['Home Tries'], df['Away Tries'] = df['Tries'].str.split(':').str"
   ]
  },
  {
   "cell_type": "code",
   "execution_count": 149,
   "metadata": {
    "collapsed": true
   },
   "outputs": [],
   "source": [
    "df['Home Team'] = df['Home Team'].map(lambda x: x.strip())"
   ]
  },
  {
   "cell_type": "code",
   "execution_count": 150,
   "metadata": {
    "collapsed": true
   },
   "outputs": [],
   "source": [
    "df['Away Team'] = df['Away Team'].map(lambda x: x.strip())"
   ]
  },
  {
   "cell_type": "code",
   "execution_count": 151,
   "metadata": {
    "collapsed": false
   },
   "outputs": [],
   "source": [
    "df[['Home Score', 'Away Score', 'Home Tries', 'Away Tries']] = df[['Home Score', 'Away Score', 'Home Tries', 'Away Tries']].apply(pd.to_numeric)"
   ]
  },
  {
   "cell_type": "code",
   "execution_count": 152,
   "metadata": {
    "collapsed": false
   },
   "outputs": [
    {
     "data": {
      "text/html": [
       "<div>\n",
       "<style>\n",
       "    .dataframe thead tr:only-child th {\n",
       "        text-align: right;\n",
       "    }\n",
       "\n",
       "    .dataframe thead th {\n",
       "        text-align: left;\n",
       "    }\n",
       "\n",
       "    .dataframe tbody tr th {\n",
       "        vertical-align: top;\n",
       "    }\n",
       "</style>\n",
       "<table border=\"1\" class=\"dataframe\">\n",
       "  <thead>\n",
       "    <tr style=\"text-align: right;\">\n",
       "      <th></th>\n",
       "      <th>Date</th>\n",
       "      <th>Tourn</th>\n",
       "      <th>Rnd</th>\n",
       "      <th>Match</th>\n",
       "      <th>Score</th>\n",
       "      <th>Tries</th>\n",
       "      <th>Pnts</th>\n",
       "      <th>Venue</th>\n",
       "      <th>Neut.</th>\n",
       "      <th>Home Team</th>\n",
       "      <th>Away Team</th>\n",
       "      <th>Home Score</th>\n",
       "      <th>Away Score</th>\n",
       "      <th>Home Tries</th>\n",
       "      <th>Away Tries</th>\n",
       "    </tr>\n",
       "  </thead>\n",
       "  <tbody>\n",
       "    <tr>\n",
       "      <th>0</th>\n",
       "      <td>Sat, 03 Dec 2016</td>\n",
       "      <td>AI,CC</td>\n",
       "      <td>e</td>\n",
       "      <td>ENG v AUS</td>\n",
       "      <td>37-21</td>\n",
       "      <td>4:2</td>\n",
       "      <td>5-0</td>\n",
       "      <td>Twickenham, London</td>\n",
       "      <td>NaN</td>\n",
       "      <td>ENG</td>\n",
       "      <td>AUS</td>\n",
       "      <td>37</td>\n",
       "      <td>21</td>\n",
       "      <td>4</td>\n",
       "      <td>2</td>\n",
       "    </tr>\n",
       "    <tr>\n",
       "      <th>1</th>\n",
       "      <td>Sat, 26 Nov 2016</td>\n",
       "      <td>AI,DG</td>\n",
       "      <td>NaN</td>\n",
       "      <td>FRA v NZL</td>\n",
       "      <td>19-24</td>\n",
       "      <td>1:3</td>\n",
       "      <td>1-4</td>\n",
       "      <td>Stade de France, Paris</td>\n",
       "      <td>NaN</td>\n",
       "      <td>FRA</td>\n",
       "      <td>NZL</td>\n",
       "      <td>19</td>\n",
       "      <td>24</td>\n",
       "      <td>1</td>\n",
       "      <td>3</td>\n",
       "    </tr>\n",
       "    <tr>\n",
       "      <th>2</th>\n",
       "      <td>Sat, 26 Nov 2016</td>\n",
       "      <td>AI</td>\n",
       "      <td>NaN</td>\n",
       "      <td>IRE v AUS</td>\n",
       "      <td>27-24</td>\n",
       "      <td>3:3</td>\n",
       "      <td>4-1</td>\n",
       "      <td>Lansdowne Rd, Dublin</td>\n",
       "      <td>NaN</td>\n",
       "      <td>IRE</td>\n",
       "      <td>AUS</td>\n",
       "      <td>27</td>\n",
       "      <td>24</td>\n",
       "      <td>3</td>\n",
       "      <td>3</td>\n",
       "    </tr>\n",
       "    <tr>\n",
       "      <th>3</th>\n",
       "      <td>Sat, 26 Nov 2016</td>\n",
       "      <td>AI</td>\n",
       "      <td>NaN</td>\n",
       "      <td>WAL v SAF</td>\n",
       "      <td>27-13</td>\n",
       "      <td>2:1</td>\n",
       "      <td>4-0</td>\n",
       "      <td>Millennium Stadium, Cardiff</td>\n",
       "      <td>NaN</td>\n",
       "      <td>WAL</td>\n",
       "      <td>SAF</td>\n",
       "      <td>27</td>\n",
       "      <td>13</td>\n",
       "      <td>2</td>\n",
       "      <td>1</td>\n",
       "    </tr>\n",
       "    <tr>\n",
       "      <th>4</th>\n",
       "      <td>Sat, 26 Nov 2016</td>\n",
       "      <td>AI</td>\n",
       "      <td>NaN</td>\n",
       "      <td>ENG v ARG</td>\n",
       "      <td>27-14</td>\n",
       "      <td>2:2</td>\n",
       "      <td>4-0</td>\n",
       "      <td>Twickenham, London</td>\n",
       "      <td>NaN</td>\n",
       "      <td>ENG</td>\n",
       "      <td>ARG</td>\n",
       "      <td>27</td>\n",
       "      <td>14</td>\n",
       "      <td>2</td>\n",
       "      <td>2</td>\n",
       "    </tr>\n",
       "  </tbody>\n",
       "</table>\n",
       "</div>"
      ],
      "text/plain": [
       "               Date  Tourn  Rnd      Match  Score Tries Pnts  \\\n",
       "0  Sat, 03 Dec 2016  AI,CC    e  ENG v AUS  37-21   4:2  5-0   \n",
       "1  Sat, 26 Nov 2016  AI,DG  NaN  FRA v NZL  19-24   1:3  1-4   \n",
       "2  Sat, 26 Nov 2016     AI  NaN  IRE v AUS  27-24   3:3  4-1   \n",
       "3  Sat, 26 Nov 2016     AI  NaN  WAL v SAF  27-13   2:1  4-0   \n",
       "4  Sat, 26 Nov 2016     AI  NaN  ENG v ARG  27-14   2:2  4-0   \n",
       "\n",
       "                         Venue Neut. Home Team Away Team  Home Score  \\\n",
       "0           Twickenham, London   NaN       ENG       AUS          37   \n",
       "1       Stade de France, Paris   NaN       FRA       NZL          19   \n",
       "2         Lansdowne Rd, Dublin   NaN       IRE       AUS          27   \n",
       "3  Millennium Stadium, Cardiff   NaN       WAL       SAF          27   \n",
       "4           Twickenham, London   NaN       ENG       ARG          27   \n",
       "\n",
       "   Away Score  Home Tries  Away Tries  \n",
       "0          21           4           2  \n",
       "1          24           1           3  \n",
       "2          24           3           3  \n",
       "3          13           2           1  \n",
       "4          14           2           2  "
      ]
     },
     "execution_count": 152,
     "metadata": {},
     "output_type": "execute_result"
    }
   ],
   "source": [
    "df.head()"
   ]
  },
  {
   "cell_type": "code",
   "execution_count": 153,
   "metadata": {
    "collapsed": false
   },
   "outputs": [],
   "source": [
    "df['Home Win'] = df['Home Score'] > df['Away Score']"
   ]
  },
  {
   "cell_type": "code",
   "execution_count": 154,
   "metadata": {
    "collapsed": false
   },
   "outputs": [],
   "source": [
    "df['Winner'] = np.where(df['Home Win'], df['Home Team'], df['Away Team'])"
   ]
  },
  {
   "cell_type": "code",
   "execution_count": 155,
   "metadata": {
    "collapsed": true
   },
   "outputs": [],
   "source": [
    "df['Margin'] = abs(df['Home Score'] - df['Away Score'])"
   ]
  },
  {
   "cell_type": "code",
   "execution_count": 156,
   "metadata": {
    "collapsed": false
   },
   "outputs": [],
   "source": [
    "df.loc[df['Margin']==0, 'Winner'] = 'Draw'"
   ]
  },
  {
   "cell_type": "code",
   "execution_count": 157,
   "metadata": {
    "collapsed": true
   },
   "outputs": [],
   "source": [
    "df['Date'] = pd.to_datetime(df['Date'])"
   ]
  },
  {
   "cell_type": "code",
   "execution_count": 158,
   "metadata": {
    "collapsed": false
   },
   "outputs": [
    {
     "data": {
      "text/html": [
       "<div>\n",
       "<style>\n",
       "    .dataframe thead tr:only-child th {\n",
       "        text-align: right;\n",
       "    }\n",
       "\n",
       "    .dataframe thead th {\n",
       "        text-align: left;\n",
       "    }\n",
       "\n",
       "    .dataframe tbody tr th {\n",
       "        vertical-align: top;\n",
       "    }\n",
       "</style>\n",
       "<table border=\"1\" class=\"dataframe\">\n",
       "  <thead>\n",
       "    <tr style=\"text-align: right;\">\n",
       "      <th></th>\n",
       "      <th>Date</th>\n",
       "      <th>Tourn</th>\n",
       "      <th>Rnd</th>\n",
       "      <th>Match</th>\n",
       "      <th>Score</th>\n",
       "      <th>Tries</th>\n",
       "      <th>Pnts</th>\n",
       "      <th>Venue</th>\n",
       "      <th>Neut.</th>\n",
       "      <th>Home Team</th>\n",
       "      <th>Away Team</th>\n",
       "      <th>Home Score</th>\n",
       "      <th>Away Score</th>\n",
       "      <th>Home Tries</th>\n",
       "      <th>Away Tries</th>\n",
       "      <th>Home Win</th>\n",
       "      <th>Winner</th>\n",
       "      <th>Margin</th>\n",
       "    </tr>\n",
       "  </thead>\n",
       "  <tbody>\n",
       "    <tr>\n",
       "      <th>0</th>\n",
       "      <td>2016-12-03</td>\n",
       "      <td>AI,CC</td>\n",
       "      <td>e</td>\n",
       "      <td>ENG v AUS</td>\n",
       "      <td>37-21</td>\n",
       "      <td>4:2</td>\n",
       "      <td>5-0</td>\n",
       "      <td>Twickenham, London</td>\n",
       "      <td>NaN</td>\n",
       "      <td>ENG</td>\n",
       "      <td>AUS</td>\n",
       "      <td>37</td>\n",
       "      <td>21</td>\n",
       "      <td>4</td>\n",
       "      <td>2</td>\n",
       "      <td>True</td>\n",
       "      <td>ENG</td>\n",
       "      <td>16</td>\n",
       "    </tr>\n",
       "    <tr>\n",
       "      <th>1</th>\n",
       "      <td>2016-11-26</td>\n",
       "      <td>AI,DG</td>\n",
       "      <td>NaN</td>\n",
       "      <td>FRA v NZL</td>\n",
       "      <td>19-24</td>\n",
       "      <td>1:3</td>\n",
       "      <td>1-4</td>\n",
       "      <td>Stade de France, Paris</td>\n",
       "      <td>NaN</td>\n",
       "      <td>FRA</td>\n",
       "      <td>NZL</td>\n",
       "      <td>19</td>\n",
       "      <td>24</td>\n",
       "      <td>1</td>\n",
       "      <td>3</td>\n",
       "      <td>False</td>\n",
       "      <td>NZL</td>\n",
       "      <td>5</td>\n",
       "    </tr>\n",
       "    <tr>\n",
       "      <th>2</th>\n",
       "      <td>2016-11-26</td>\n",
       "      <td>AI</td>\n",
       "      <td>NaN</td>\n",
       "      <td>IRE v AUS</td>\n",
       "      <td>27-24</td>\n",
       "      <td>3:3</td>\n",
       "      <td>4-1</td>\n",
       "      <td>Lansdowne Rd, Dublin</td>\n",
       "      <td>NaN</td>\n",
       "      <td>IRE</td>\n",
       "      <td>AUS</td>\n",
       "      <td>27</td>\n",
       "      <td>24</td>\n",
       "      <td>3</td>\n",
       "      <td>3</td>\n",
       "      <td>True</td>\n",
       "      <td>IRE</td>\n",
       "      <td>3</td>\n",
       "    </tr>\n",
       "    <tr>\n",
       "      <th>3</th>\n",
       "      <td>2016-11-26</td>\n",
       "      <td>AI</td>\n",
       "      <td>NaN</td>\n",
       "      <td>WAL v SAF</td>\n",
       "      <td>27-13</td>\n",
       "      <td>2:1</td>\n",
       "      <td>4-0</td>\n",
       "      <td>Millennium Stadium, Cardiff</td>\n",
       "      <td>NaN</td>\n",
       "      <td>WAL</td>\n",
       "      <td>SAF</td>\n",
       "      <td>27</td>\n",
       "      <td>13</td>\n",
       "      <td>2</td>\n",
       "      <td>1</td>\n",
       "      <td>True</td>\n",
       "      <td>WAL</td>\n",
       "      <td>14</td>\n",
       "    </tr>\n",
       "    <tr>\n",
       "      <th>4</th>\n",
       "      <td>2016-11-26</td>\n",
       "      <td>AI</td>\n",
       "      <td>NaN</td>\n",
       "      <td>ENG v ARG</td>\n",
       "      <td>27-14</td>\n",
       "      <td>2:2</td>\n",
       "      <td>4-0</td>\n",
       "      <td>Twickenham, London</td>\n",
       "      <td>NaN</td>\n",
       "      <td>ENG</td>\n",
       "      <td>ARG</td>\n",
       "      <td>27</td>\n",
       "      <td>14</td>\n",
       "      <td>2</td>\n",
       "      <td>2</td>\n",
       "      <td>True</td>\n",
       "      <td>ENG</td>\n",
       "      <td>13</td>\n",
       "    </tr>\n",
       "  </tbody>\n",
       "</table>\n",
       "</div>"
      ],
      "text/plain": [
       "        Date  Tourn  Rnd      Match  Score Tries Pnts  \\\n",
       "0 2016-12-03  AI,CC    e  ENG v AUS  37-21   4:2  5-0   \n",
       "1 2016-11-26  AI,DG  NaN  FRA v NZL  19-24   1:3  1-4   \n",
       "2 2016-11-26     AI  NaN  IRE v AUS  27-24   3:3  4-1   \n",
       "3 2016-11-26     AI  NaN  WAL v SAF  27-13   2:1  4-0   \n",
       "4 2016-11-26     AI  NaN  ENG v ARG  27-14   2:2  4-0   \n",
       "\n",
       "                         Venue Neut. Home Team Away Team  Home Score  \\\n",
       "0           Twickenham, London   NaN       ENG       AUS          37   \n",
       "1       Stade de France, Paris   NaN       FRA       NZL          19   \n",
       "2         Lansdowne Rd, Dublin   NaN       IRE       AUS          27   \n",
       "3  Millennium Stadium, Cardiff   NaN       WAL       SAF          27   \n",
       "4           Twickenham, London   NaN       ENG       ARG          27   \n",
       "\n",
       "   Away Score  Home Tries  Away Tries  Home Win Winner  Margin  \n",
       "0          21           4           2      True    ENG      16  \n",
       "1          24           1           3     False    NZL       5  \n",
       "2          24           3           3      True    IRE       3  \n",
       "3          13           2           1      True    WAL      14  \n",
       "4          14           2           2      True    ENG      13  "
      ]
     },
     "execution_count": 158,
     "metadata": {},
     "output_type": "execute_result"
    }
   ],
   "source": [
    "df.head()"
   ]
  },
  {
   "cell_type": "code",
   "execution_count": 159,
   "metadata": {
    "collapsed": true
   },
   "outputs": [],
   "source": [
    "df.to_csv(\"data/AI_processed.csv\", index = False)"
   ]
  },
  {
   "cell_type": "markdown",
   "metadata": {},
   "source": [
    "# Analysis"
   ]
  },
  {
   "cell_type": "markdown",
   "metadata": {},
   "source": [
    "\n",
    "## Number of matches a year"
   ]
  },
  {
   "cell_type": "code",
   "execution_count": 160,
   "metadata": {
    "collapsed": false
   },
   "outputs": [
    {
     "data": {
      "text/plain": [
       "Timestamp('1973-11-10 00:00:00')"
      ]
     },
     "execution_count": 160,
     "metadata": {},
     "output_type": "execute_result"
    }
   ],
   "source": [
    "df['Date'].min()"
   ]
  },
  {
   "cell_type": "code",
   "execution_count": 161,
   "metadata": {
    "collapsed": false
   },
   "outputs": [
    {
     "data": {
      "text/plain": [
       "Timestamp('2016-12-03 00:00:00')"
      ]
     },
     "execution_count": 161,
     "metadata": {},
     "output_type": "execute_result"
    }
   ],
   "source": [
    "df['Date'].max()"
   ]
  },
  {
   "cell_type": "code",
   "execution_count": 209,
   "metadata": {
    "collapsed": false
   },
   "outputs": [
    {
     "data": {
      "image/png": "[encoded data removed]",
      "text/plain": [
       "<matplotlib.figure.Figure at 0x22160d7f358>"
      ]
     },
     "metadata": {},
     "output_type": "display_data"
    }
   ],
   "source": [
    "sns.set_style(\"white\")\n",
    "plt.figure(figsize=(10,6))\n",
    "mpl.rcParams['font.size'] = 20\n",
    "plt.bar(df['Date'].dt.year.value_counts().index,df['Date'].dt.year.value_counts().values)\n",
    "plt.xlabel('Year', fontsize = 18)\n",
    "plt.ylabel('Number of Matches', fontsize =18)\n",
    "plt.savefig('figures\\matches_per_year.png')\n",
    "plt.show()"
   ]
  },
  {
   "cell_type": "markdown",
   "metadata": {},
   "source": [
    "World Cup four year cycle evident apart from 1995 when it was all wrapped up by June. Interestingly it was finished by Jun in 1987 as well and there were no Autumn internationals."
   ]
  },
  {
   "cell_type": "markdown",
   "metadata": {},
   "source": [
    "## Overall Results"
   ]
  },
  {
   "cell_type": "code",
   "execution_count": 163,
   "metadata": {
    "collapsed": false
   },
   "outputs": [
    {
     "data": {
      "text/plain": [
       "194"
      ]
     },
     "execution_count": 163,
     "metadata": {},
     "output_type": "execute_result"
    }
   ],
   "source": [
    "df['Home Win'].sum()"
   ]
  },
  {
   "cell_type": "code",
   "execution_count": 164,
   "metadata": {
    "collapsed": false
   },
   "outputs": [
    {
     "data": {
      "text/plain": [
       "195"
      ]
     },
     "execution_count": 164,
     "metadata": {},
     "output_type": "execute_result"
    }
   ],
   "source": [
    "len(df)-df['Home Win'].sum()"
   ]
  },
  {
   "cell_type": "code",
   "execution_count": 165,
   "metadata": {
    "collapsed": false
   },
   "outputs": [
    {
     "data": {
      "text/plain": [
       "9"
      ]
     },
     "execution_count": 165,
     "metadata": {},
     "output_type": "execute_result"
    }
   ],
   "source": [
    "len(df[df['Winner']=='Draw'])"
   ]
  },
  {
   "cell_type": "code",
   "execution_count": 166,
   "metadata": {
    "collapsed": false
   },
   "outputs": [
    {
     "data": {
      "text/plain": [
       "186"
      ]
     },
     "execution_count": 166,
     "metadata": {},
     "output_type": "execute_result"
    }
   ],
   "source": [
    "len(df)-df['Home Win'].sum() -len(df[df['Winner']=='Draw'])"
   ]
  },
  {
   "cell_type": "code",
   "execution_count": 227,
   "metadata": {
    "collapsed": false
   },
   "outputs": [
    {
     "data": {
      "image/png": "[encoded data removed]",
      "text/plain": [
       "<matplotlib.figure.Figure at 0x221611a0d30>"
      ]
     },
     "metadata": {},
     "output_type": "display_data"
    }
   ],
   "source": [
    "#change colour and beautify\n",
    "labels = 'Home', 'Away','Draw'\n",
    "sizes = [df['Home Win'].sum(), len(df)-df['Home Win'].sum() -len(df[df['Winner']=='Draw']), len(df[df['Winner']=='Draw'])]\n",
    "explode = (0, 0, 0.3,)\n",
    "fig1, ax1 = plt.subplots(figsize=(10,6))\n",
    "patches, texts, autotexts = ax1.pie(sizes, labels=labels, autopct='%1.1f% %',\n",
    "shadow=True, startangle=90,colors=['#ffb302','#488bff','#e24141'])\n",
    "ax1.axis('equal')  # Equal aspect ratio ensures that pie is drawn as a circle.\n",
    "#plt.title(\"Match results\")\n",
    "texts[0].set_fontsize(20), texts[1].set_fontsize(20), texts[2].set_fontsize(20)\n",
    "plt.savefig('figures/results.png')\n",
    "plt.show()"
   ]
  },
  {
   "cell_type": "markdown",
   "metadata": {},
   "source": [
    "## Winning Margin"
   ]
  },
  {
   "cell_type": "code",
   "execution_count": 168,
   "metadata": {
    "collapsed": false
   },
   "outputs": [
    {
     "data": {
      "text/plain": [
       "14.0"
      ]
     },
     "execution_count": 168,
     "metadata": {},
     "output_type": "execute_result"
    }
   ],
   "source": [
    "df['Margin'].median()"
   ]
  },
  {
   "cell_type": "code",
   "execution_count": 169,
   "metadata": {
    "collapsed": false
   },
   "outputs": [],
   "source": [
    "sns.set_style(\"white\")"
   ]
  },
  {
   "cell_type": "code",
   "execution_count": 211,
   "metadata": {
    "collapsed": false
   },
   "outputs": [
    {
     "data": {
      "image/png": "[encoded data removed]",
      "text/plain": [
       "<matplotlib.figure.Figure at 0x2215f6ba518>"
      ]
     },
     "metadata": {},
     "output_type": "display_data"
    }
   ],
   "source": [
    "plt.figure(figsize=(10,6))\n",
    "plt.hist(df['Margin'], bins = 50, alpha = 0.75)\n",
    "#plt.title('Winning Margin Distribution', fontsize=20)\n",
    "plt.xlabel('Points Difference', fontsize=18)\n",
    "plt.ylabel('Game Count', fontsize=18)\n",
    "#plt.axvline(df['Margin'].mean())\n",
    "#plt.text(20,41,'Mean = {0:.2f}'.format(df['Margin'].mean()))\n",
    "plt.axvline(df['Margin'].median(), color='#cc0606')\n",
    "plt.text(16,31,'Median = {0:.2f}'.format(df['Margin'].median()), color='#cc0606')\n",
    "plt.text(90,41, \"a: ENG v ROM, 2001\")\n",
    "plt.text(90,36, \"b: WAL v JAP, 2004\")\n",
    "plt.text(90,31, \"c: SCO v JAP, 2004\")\n",
    "plt.text(91.2,1.6,\"c\")\n",
    "plt.text(96.5,1.6,\"b\")\n",
    "plt.text(131.2,1.6,\"a\")\n",
    "#plt.axvline(df['Margin'].median())\n",
    "plt.savefig('figures\\magin_dist.png')\n",
    "plt.show()"
   ]
  },
  {
   "cell_type": "code",
   "execution_count": 171,
   "metadata": {
    "collapsed": false
   },
   "outputs": [],
   "source": [
    "margin_group = df['Margin'].groupby(df['Home Win'])"
   ]
  },
  {
   "cell_type": "code",
   "execution_count": 172,
   "metadata": {
    "collapsed": false
   },
   "outputs": [
    {
     "data": {
      "image/png": "[encoded data removed]",
      "text/plain": [
       "<matplotlib.figure.Figure at 0x22160f0f160>"
      ]
     },
     "metadata": {},
     "output_type": "display_data"
    }
   ],
   "source": [
    "margin_group.hist(alpha=0.6, bins = 40)\n",
    "plt.title('Winning Margin Distribution')\n",
    "plt.xlabel('Points Difference')\n",
    "plt.ylabel('Game Count')\n",
    "plt.legend(['Away', 'Home'])\n",
    "plt.axvline(margin_group.median()[1], color = 'g')\n",
    "plt.text(17,26,'Home Median = {0:.2f}'.format(margin_group.median()[1]))\n",
    "plt.axvline(margin_group.median()[0])\n",
    "plt.text(17,28,'Away Median = {0:.2f}'.format(margin_group.median()[0]))\n",
    "plt.show()"
   ]
  },
  {
   "cell_type": "code",
   "execution_count": 173,
   "metadata": {
    "collapsed": false,
    "scrolled": true
   },
   "outputs": [
    {
     "data": {
      "text/plain": [
       "134"
      ]
     },
     "execution_count": 173,
     "metadata": {},
     "output_type": "execute_result"
    }
   ],
   "source": [
    "df['Margin'].max()"
   ]
  },
  {
   "cell_type": "code",
   "execution_count": 174,
   "metadata": {
    "collapsed": false
   },
   "outputs": [
    {
     "data": {
      "text/html": [
       "<div>\n",
       "<style>\n",
       "    .dataframe thead tr:only-child th {\n",
       "        text-align: right;\n",
       "    }\n",
       "\n",
       "    .dataframe thead th {\n",
       "        text-align: left;\n",
       "    }\n",
       "\n",
       "    .dataframe tbody tr th {\n",
       "        vertical-align: top;\n",
       "    }\n",
       "</style>\n",
       "<table border=\"1\" class=\"dataframe\">\n",
       "  <thead>\n",
       "    <tr style=\"text-align: right;\">\n",
       "      <th></th>\n",
       "      <th>Date</th>\n",
       "      <th>Tourn</th>\n",
       "      <th>Rnd</th>\n",
       "      <th>Match</th>\n",
       "      <th>Score</th>\n",
       "      <th>Tries</th>\n",
       "      <th>Pnts</th>\n",
       "      <th>Venue</th>\n",
       "      <th>Neut.</th>\n",
       "      <th>Home Team</th>\n",
       "      <th>Away Team</th>\n",
       "      <th>Home Score</th>\n",
       "      <th>Away Score</th>\n",
       "      <th>Home Tries</th>\n",
       "      <th>Away Tries</th>\n",
       "      <th>Home Win</th>\n",
       "      <th>Winner</th>\n",
       "      <th>Margin</th>\n",
       "    </tr>\n",
       "  </thead>\n",
       "  <tbody>\n",
       "    <tr>\n",
       "      <th>237</th>\n",
       "      <td>2001-11-17</td>\n",
       "      <td>AI</td>\n",
       "      <td>NaN</td>\n",
       "      <td>ENG v ROM</td>\n",
       "      <td>134-0</td>\n",
       "      <td>20:0</td>\n",
       "      <td>5-0</td>\n",
       "      <td>Twickenham, London</td>\n",
       "      <td>NaN</td>\n",
       "      <td>ENG</td>\n",
       "      <td>ROM</td>\n",
       "      <td>134</td>\n",
       "      <td>0</td>\n",
       "      <td>20</td>\n",
       "      <td>0</td>\n",
       "      <td>True</td>\n",
       "      <td>ENG</td>\n",
       "      <td>134</td>\n",
       "    </tr>\n",
       "  </tbody>\n",
       "</table>\n",
       "</div>"
      ],
      "text/plain": [
       "          Date Tourn  Rnd      Match  Score Tries Pnts               Venue  \\\n",
       "237 2001-11-17    AI  NaN  ENG v ROM  134-0  20:0  5-0  Twickenham, London   \n",
       "\n",
       "    Neut. Home Team Away Team  Home Score  Away Score  Home Tries  Away Tries  \\\n",
       "237   NaN       ENG       ROM         134           0          20           0   \n",
       "\n",
       "     Home Win Winner  Margin  \n",
       "237      True    ENG     134  "
      ]
     },
     "execution_count": 174,
     "metadata": {},
     "output_type": "execute_result"
    }
   ],
   "source": [
    "df[df['Margin'] == df['Margin'].max()]"
   ]
  },
  {
   "cell_type": "code",
   "execution_count": 175,
   "metadata": {
    "collapsed": false
   },
   "outputs": [
    {
     "data": {
      "text/html": [
       "<div>\n",
       "<style>\n",
       "    .dataframe thead tr:only-child th {\n",
       "        text-align: right;\n",
       "    }\n",
       "\n",
       "    .dataframe thead th {\n",
       "        text-align: left;\n",
       "    }\n",
       "\n",
       "    .dataframe tbody tr th {\n",
       "        vertical-align: top;\n",
       "    }\n",
       "</style>\n",
       "<table border=\"1\" class=\"dataframe\">\n",
       "  <thead>\n",
       "    <tr style=\"text-align: right;\">\n",
       "      <th></th>\n",
       "      <th>Date</th>\n",
       "      <th>Tourn</th>\n",
       "      <th>Rnd</th>\n",
       "      <th>Match</th>\n",
       "      <th>Score</th>\n",
       "      <th>Tries</th>\n",
       "      <th>Pnts</th>\n",
       "      <th>Venue</th>\n",
       "      <th>Neut.</th>\n",
       "      <th>Home Team</th>\n",
       "      <th>Away Team</th>\n",
       "      <th>Home Score</th>\n",
       "      <th>Away Score</th>\n",
       "      <th>Home Tries</th>\n",
       "      <th>Away Tries</th>\n",
       "      <th>Home Win</th>\n",
       "      <th>Winner</th>\n",
       "      <th>Margin</th>\n",
       "    </tr>\n",
       "  </thead>\n",
       "  <tbody>\n",
       "    <tr>\n",
       "      <th>196</th>\n",
       "      <td>2004-11-26</td>\n",
       "      <td>AI</td>\n",
       "      <td>NaN</td>\n",
       "      <td>WAL v JAP</td>\n",
       "      <td>98-0</td>\n",
       "      <td>14:0</td>\n",
       "      <td>5-0</td>\n",
       "      <td>Millennium Stadium, Cardiff</td>\n",
       "      <td>NaN</td>\n",
       "      <td>WAL</td>\n",
       "      <td>JAP</td>\n",
       "      <td>98</td>\n",
       "      <td>0</td>\n",
       "      <td>14</td>\n",
       "      <td>0</td>\n",
       "      <td>True</td>\n",
       "      <td>WAL</td>\n",
       "      <td>98</td>\n",
       "    </tr>\n",
       "    <tr>\n",
       "      <th>204</th>\n",
       "      <td>2004-11-13</td>\n",
       "      <td>AI</td>\n",
       "      <td>NaN</td>\n",
       "      <td>SCO v JAP</td>\n",
       "      <td>100-8</td>\n",
       "      <td>15:1</td>\n",
       "      <td>5-0</td>\n",
       "      <td>McDiarmid Park, Perth_SCO</td>\n",
       "      <td>NaN</td>\n",
       "      <td>SCO</td>\n",
       "      <td>JAP</td>\n",
       "      <td>100</td>\n",
       "      <td>8</td>\n",
       "      <td>15</td>\n",
       "      <td>1</td>\n",
       "      <td>True</td>\n",
       "      <td>SCO</td>\n",
       "      <td>92</td>\n",
       "    </tr>\n",
       "    <tr>\n",
       "      <th>237</th>\n",
       "      <td>2001-11-17</td>\n",
       "      <td>AI</td>\n",
       "      <td>NaN</td>\n",
       "      <td>ENG v ROM</td>\n",
       "      <td>134-0</td>\n",
       "      <td>20:0</td>\n",
       "      <td>5-0</td>\n",
       "      <td>Twickenham, London</td>\n",
       "      <td>NaN</td>\n",
       "      <td>ENG</td>\n",
       "      <td>ROM</td>\n",
       "      <td>134</td>\n",
       "      <td>0</td>\n",
       "      <td>20</td>\n",
       "      <td>0</td>\n",
       "      <td>True</td>\n",
       "      <td>ENG</td>\n",
       "      <td>134</td>\n",
       "    </tr>\n",
       "  </tbody>\n",
       "</table>\n",
       "</div>"
      ],
      "text/plain": [
       "          Date Tourn  Rnd      Match  Score Tries Pnts  \\\n",
       "196 2004-11-26    AI  NaN  WAL v JAP   98-0  14:0  5-0   \n",
       "204 2004-11-13    AI  NaN  SCO v JAP  100-8  15:1  5-0   \n",
       "237 2001-11-17    AI  NaN  ENG v ROM  134-0  20:0  5-0   \n",
       "\n",
       "                           Venue Neut. Home Team Away Team  Home Score  \\\n",
       "196  Millennium Stadium, Cardiff   NaN       WAL       JAP          98   \n",
       "204    McDiarmid Park, Perth_SCO   NaN       SCO       JAP         100   \n",
       "237           Twickenham, London   NaN       ENG       ROM         134   \n",
       "\n",
       "     Away Score  Home Tries  Away Tries  Home Win Winner  Margin  \n",
       "196           0          14           0      True    WAL      98  \n",
       "204           8          15           1      True    SCO      92  \n",
       "237           0          20           0      True    ENG     134  "
      ]
     },
     "execution_count": 175,
     "metadata": {},
     "output_type": "execute_result"
    }
   ],
   "source": [
    "df[df['Margin'] >80]"
   ]
  },
  {
   "cell_type": "markdown",
   "metadata": {},
   "source": [
    "### Draws"
   ]
  },
  {
   "cell_type": "code",
   "execution_count": 176,
   "metadata": {
    "collapsed": false
   },
   "outputs": [
    {
     "data": {
      "text/html": [
       "<div>\n",
       "<style>\n",
       "    .dataframe thead tr:only-child th {\n",
       "        text-align: right;\n",
       "    }\n",
       "\n",
       "    .dataframe thead th {\n",
       "        text-align: left;\n",
       "    }\n",
       "\n",
       "    .dataframe tbody tr th {\n",
       "        vertical-align: top;\n",
       "    }\n",
       "</style>\n",
       "<table border=\"1\" class=\"dataframe\">\n",
       "  <thead>\n",
       "    <tr style=\"text-align: right;\">\n",
       "      <th></th>\n",
       "      <th>Date</th>\n",
       "      <th>Tourn</th>\n",
       "      <th>Rnd</th>\n",
       "      <th>Match</th>\n",
       "      <th>Score</th>\n",
       "      <th>Tries</th>\n",
       "      <th>Pnts</th>\n",
       "      <th>Venue</th>\n",
       "      <th>Neut.</th>\n",
       "      <th>Home Team</th>\n",
       "      <th>Away Team</th>\n",
       "      <th>Home Score</th>\n",
       "      <th>Away Score</th>\n",
       "      <th>Home Tries</th>\n",
       "      <th>Away Tries</th>\n",
       "      <th>Home Win</th>\n",
       "      <th>Winner</th>\n",
       "      <th>Margin</th>\n",
       "    </tr>\n",
       "  </thead>\n",
       "  <tbody>\n",
       "    <tr>\n",
       "      <th>100</th>\n",
       "      <td>2010-11-19</td>\n",
       "      <td>AI</td>\n",
       "      <td>NaN</td>\n",
       "      <td>WAL v FIJ</td>\n",
       "      <td>16-16</td>\n",
       "      <td>1:1</td>\n",
       "      <td>2-2</td>\n",
       "      <td>Millennium Stadium, Cardiff</td>\n",
       "      <td>NaN</td>\n",
       "      <td>WAL</td>\n",
       "      <td>FIJ</td>\n",
       "      <td>16</td>\n",
       "      <td>16</td>\n",
       "      <td>1</td>\n",
       "      <td>1</td>\n",
       "      <td>False</td>\n",
       "      <td>Draw</td>\n",
       "      <td>0</td>\n",
       "    </tr>\n",
       "    <tr>\n",
       "      <th>121</th>\n",
       "      <td>2009-11-15</td>\n",
       "      <td>AI</td>\n",
       "      <td>NaN</td>\n",
       "      <td>IRE v AUS</td>\n",
       "      <td>20-20</td>\n",
       "      <td>2:2</td>\n",
       "      <td>2-2</td>\n",
       "      <td>Croke Park, Dublin</td>\n",
       "      <td>NaN</td>\n",
       "      <td>IRE</td>\n",
       "      <td>AUS</td>\n",
       "      <td>20</td>\n",
       "      <td>20</td>\n",
       "      <td>2</td>\n",
       "      <td>2</td>\n",
       "      <td>False</td>\n",
       "      <td>Draw</td>\n",
       "      <td>0</td>\n",
       "    </tr>\n",
       "    <tr>\n",
       "      <th>169</th>\n",
       "      <td>2006-11-04</td>\n",
       "      <td>AI</td>\n",
       "      <td>NaN</td>\n",
       "      <td>WAL v AUS</td>\n",
       "      <td>29-29</td>\n",
       "      <td>2:4</td>\n",
       "      <td>2-3</td>\n",
       "      <td>Millennium Stadium, Cardiff</td>\n",
       "      <td>NaN</td>\n",
       "      <td>WAL</td>\n",
       "      <td>AUS</td>\n",
       "      <td>29</td>\n",
       "      <td>29</td>\n",
       "      <td>2</td>\n",
       "      <td>4</td>\n",
       "      <td>False</td>\n",
       "      <td>Draw</td>\n",
       "      <td>0</td>\n",
       "    </tr>\n",
       "    <tr>\n",
       "      <th>218</th>\n",
       "      <td>2002-11-16</td>\n",
       "      <td>AI,DG</td>\n",
       "      <td>NaN</td>\n",
       "      <td>FRA v NZL</td>\n",
       "      <td>20-20</td>\n",
       "      <td>2:2</td>\n",
       "      <td>2-2</td>\n",
       "      <td>Stade de France, Paris</td>\n",
       "      <td>NaN</td>\n",
       "      <td>FRA</td>\n",
       "      <td>NZL</td>\n",
       "      <td>20</td>\n",
       "      <td>20</td>\n",
       "      <td>2</td>\n",
       "      <td>2</td>\n",
       "      <td>False</td>\n",
       "      <td>Draw</td>\n",
       "      <td>0</td>\n",
       "    </tr>\n",
       "    <tr>\n",
       "      <th>273</th>\n",
       "      <td>1997-12-06</td>\n",
       "      <td>AI</td>\n",
       "      <td>2</td>\n",
       "      <td>ENG v NZL</td>\n",
       "      <td>26-26</td>\n",
       "      <td>3:2</td>\n",
       "      <td>2-2</td>\n",
       "      <td>Twickenham, London</td>\n",
       "      <td>NaN</td>\n",
       "      <td>ENG</td>\n",
       "      <td>NZL</td>\n",
       "      <td>26</td>\n",
       "      <td>26</td>\n",
       "      <td>3</td>\n",
       "      <td>2</td>\n",
       "      <td>False</td>\n",
       "      <td>Draw</td>\n",
       "      <td>0</td>\n",
       "    </tr>\n",
       "    <tr>\n",
       "      <th>282</th>\n",
       "      <td>1997-11-15</td>\n",
       "      <td>AI,CC</td>\n",
       "      <td>a</td>\n",
       "      <td>ENG v AUS</td>\n",
       "      <td>15-15</td>\n",
       "      <td>0:2</td>\n",
       "      <td>2-2</td>\n",
       "      <td>Twickenham, London</td>\n",
       "      <td>NaN</td>\n",
       "      <td>ENG</td>\n",
       "      <td>AUS</td>\n",
       "      <td>15</td>\n",
       "      <td>15</td>\n",
       "      <td>0</td>\n",
       "      <td>2</td>\n",
       "      <td>False</td>\n",
       "      <td>Draw</td>\n",
       "      <td>0</td>\n",
       "    </tr>\n",
       "    <tr>\n",
       "      <th>300</th>\n",
       "      <td>1995-11-18</td>\n",
       "      <td>AI</td>\n",
       "      <td>NaN</td>\n",
       "      <td>SCO v SAM</td>\n",
       "      <td>15-15</td>\n",
       "      <td>0:2</td>\n",
       "      <td>2-2</td>\n",
       "      <td>Murrayfield, Edinburgh</td>\n",
       "      <td>NaN</td>\n",
       "      <td>SCO</td>\n",
       "      <td>SAM</td>\n",
       "      <td>15</td>\n",
       "      <td>15</td>\n",
       "      <td>0</td>\n",
       "      <td>2</td>\n",
       "      <td>False</td>\n",
       "      <td>Draw</td>\n",
       "      <td>0</td>\n",
       "    </tr>\n",
       "    <tr>\n",
       "      <th>361</th>\n",
       "      <td>1983-11-13</td>\n",
       "      <td>AI</td>\n",
       "      <td>NaN</td>\n",
       "      <td>FRA v AUS</td>\n",
       "      <td>15-15</td>\n",
       "      <td>0:1</td>\n",
       "      <td>2-2</td>\n",
       "      <td>Clermont Ferrand</td>\n",
       "      <td>NaN</td>\n",
       "      <td>FRA</td>\n",
       "      <td>AUS</td>\n",
       "      <td>15</td>\n",
       "      <td>15</td>\n",
       "      <td>0</td>\n",
       "      <td>1</td>\n",
       "      <td>False</td>\n",
       "      <td>Draw</td>\n",
       "      <td>0</td>\n",
       "    </tr>\n",
       "    <tr>\n",
       "      <th>363</th>\n",
       "      <td>1983-11-12</td>\n",
       "      <td>AI</td>\n",
       "      <td>NaN</td>\n",
       "      <td>SCO v NZL</td>\n",
       "      <td>25-25</td>\n",
       "      <td>1:3</td>\n",
       "      <td>2-2</td>\n",
       "      <td>Murrayfield, Edinburgh</td>\n",
       "      <td>NaN</td>\n",
       "      <td>SCO</td>\n",
       "      <td>NZL</td>\n",
       "      <td>25</td>\n",
       "      <td>25</td>\n",
       "      <td>1</td>\n",
       "      <td>3</td>\n",
       "      <td>False</td>\n",
       "      <td>Draw</td>\n",
       "      <td>0</td>\n",
       "    </tr>\n",
       "  </tbody>\n",
       "</table>\n",
       "</div>"
      ],
      "text/plain": [
       "          Date  Tourn  Rnd      Match  Score Tries Pnts  \\\n",
       "100 2010-11-19     AI  NaN  WAL v FIJ  16-16   1:1  2-2   \n",
       "121 2009-11-15     AI  NaN  IRE v AUS  20-20   2:2  2-2   \n",
       "169 2006-11-04     AI  NaN  WAL v AUS  29-29   2:4  2-3   \n",
       "218 2002-11-16  AI,DG  NaN  FRA v NZL  20-20   2:2  2-2   \n",
       "273 1997-12-06     AI    2  ENG v NZL  26-26   3:2  2-2   \n",
       "282 1997-11-15  AI,CC    a  ENG v AUS  15-15   0:2  2-2   \n",
       "300 1995-11-18     AI  NaN  SCO v SAM  15-15   0:2  2-2   \n",
       "361 1983-11-13     AI  NaN  FRA v AUS  15-15   0:1  2-2   \n",
       "363 1983-11-12     AI  NaN  SCO v NZL  25-25   1:3  2-2   \n",
       "\n",
       "                           Venue Neut. Home Team Away Team  Home Score  \\\n",
       "100  Millennium Stadium, Cardiff   NaN       WAL       FIJ          16   \n",
       "121           Croke Park, Dublin   NaN       IRE       AUS          20   \n",
       "169  Millennium Stadium, Cardiff   NaN       WAL       AUS          29   \n",
       "218       Stade de France, Paris   NaN       FRA       NZL          20   \n",
       "273           Twickenham, London   NaN       ENG       NZL          26   \n",
       "282           Twickenham, London   NaN       ENG       AUS          15   \n",
       "300       Murrayfield, Edinburgh   NaN       SCO       SAM          15   \n",
       "361             Clermont Ferrand   NaN       FRA       AUS          15   \n",
       "363       Murrayfield, Edinburgh   NaN       SCO       NZL          25   \n",
       "\n",
       "     Away Score  Home Tries  Away Tries  Home Win Winner  Margin  \n",
       "100          16           1           1     False   Draw       0  \n",
       "121          20           2           2     False   Draw       0  \n",
       "169          29           2           4     False   Draw       0  \n",
       "218          20           2           2     False   Draw       0  \n",
       "273          26           3           2     False   Draw       0  \n",
       "282          15           0           2     False   Draw       0  \n",
       "300          15           0           2     False   Draw       0  \n",
       "361          15           0           1     False   Draw       0  \n",
       "363          25           1           3     False   Draw       0  "
      ]
     },
     "execution_count": 176,
     "metadata": {},
     "output_type": "execute_result"
    }
   ],
   "source": [
    "df[df['Winner'] =='Draw']"
   ]
  },
  {
   "cell_type": "markdown",
   "metadata": {},
   "source": [
    "### Winning Score vs Num Tries"
   ]
  },
  {
   "cell_type": "code",
   "execution_count": 177,
   "metadata": {
    "collapsed": true
   },
   "outputs": [],
   "source": [
    "df_no_draws = df[df['Winner'] !='Draw']"
   ]
  },
  {
   "cell_type": "code",
   "execution_count": 178,
   "metadata": {
    "collapsed": false
   },
   "outputs": [],
   "source": [
    "a = df_no_draws[(df_no_draws['Home Tries'] > df_no_draws['Away Tries']) & df_no_draws['Home Win']]"
   ]
  },
  {
   "cell_type": "code",
   "execution_count": 179,
   "metadata": {
    "collapsed": false
   },
   "outputs": [],
   "source": [
    "b= df_no_draws[(df_no_draws['Home Tries'] < df_no_draws['Away Tries']) & (df_no_draws['Home Win']== False)]"
   ]
  },
  {
   "cell_type": "code",
   "execution_count": 180,
   "metadata": {
    "collapsed": true
   },
   "outputs": [],
   "source": [
    "c = df_no_draws[(df_no_draws['Home Tries'] == df_no_draws['Away Tries']) ]"
   ]
  },
  {
   "cell_type": "markdown",
   "metadata": {},
   "source": [
    "Winning with less tries"
   ]
  },
  {
   "cell_type": "code",
   "execution_count": 181,
   "metadata": {
    "collapsed": false
   },
   "outputs": [
    {
     "data": {
      "text/plain": [
       "6.84210526315789"
      ]
     },
     "execution_count": 181,
     "metadata": {},
     "output_type": "execute_result"
    }
   ],
   "source": [
    "100 - (len(a) + len(b) + len(c)) / len(df_no_draws)*100"
   ]
  },
  {
   "cell_type": "markdown",
   "metadata": {},
   "source": [
    "Winning with most tries "
   ]
  },
  {
   "cell_type": "code",
   "execution_count": 182,
   "metadata": {
    "collapsed": false
   },
   "outputs": [
    {
     "data": {
      "text/plain": [
       "77.10526315789473"
      ]
     },
     "execution_count": 182,
     "metadata": {},
     "output_type": "execute_result"
    }
   ],
   "source": [
    "(len(a) + len(b))/len(df_no_draws)*100"
   ]
  },
  {
   "cell_type": "markdown",
   "metadata": {},
   "source": [
    "Equal tries"
   ]
  },
  {
   "cell_type": "code",
   "execution_count": 183,
   "metadata": {
    "collapsed": false
   },
   "outputs": [
    {
     "data": {
      "text/plain": [
       "16.05263157894737"
      ]
     },
     "execution_count": 183,
     "metadata": {},
     "output_type": "execute_result"
    }
   ],
   "source": [
    "len(c) / len(df_no_draws)*100"
   ]
  },
  {
   "cell_type": "code",
   "execution_count": 184,
   "metadata": {
    "collapsed": false
   },
   "outputs": [
    {
     "data": {
      "text/plain": [
       "6.8421052631579045"
      ]
     },
     "execution_count": 184,
     "metadata": {},
     "output_type": "execute_result"
    }
   ],
   "source": [
    "100 - (len(a) + len(b))/len(df_no_draws)*100 - len(c) / len(df_no_draws)*100"
   ]
  },
  {
   "cell_type": "code",
   "execution_count": 185,
   "metadata": {
    "collapsed": false
   },
   "outputs": [
    {
     "data": {
      "text/plain": [
       "True     41\n",
       "False    20\n",
       "Name: Home Win, dtype: int64"
      ]
     },
     "execution_count": 185,
     "metadata": {},
     "output_type": "execute_result"
    }
   ],
   "source": [
    "c['Home Win'].value_counts()"
   ]
  },
  {
   "cell_type": "markdown",
   "metadata": {},
   "source": [
    "## Winning %"
   ]
  },
  {
   "cell_type": "code",
   "execution_count": 186,
   "metadata": {
    "collapsed": false
   },
   "outputs": [],
   "source": [
    "games_played = pd.concat([df['Away Team'], df['Home Team']]).value_counts()"
   ]
  },
  {
   "cell_type": "code",
   "execution_count": 187,
   "metadata": {
    "collapsed": false
   },
   "outputs": [],
   "source": [
    "winners = df['Winner'].value_counts()"
   ]
  },
  {
   "cell_type": "code",
   "execution_count": 188,
   "metadata": {
    "collapsed": false
   },
   "outputs": [],
   "source": [
    "win_perc = pd.concat([games_played, winners], axis = 1).reset_index()\n",
    "win_perc.columns = ['Country', 'Games Played', 'Games Won']\n",
    "win_perc.fillna(0, inplace = True)\n",
    "win_perc[['Games Played','Games Won']] = win_perc[['Games Played','Games Won']].astype(int)\n",
    "win_perc = win_perc[win_perc['Country'] != 'Draw'].reset_index()"
   ]
  },
  {
   "cell_type": "code",
   "execution_count": 189,
   "metadata": {
    "collapsed": false
   },
   "outputs": [],
   "source": [
    "win_perc['Win Percentage'] = (win_perc['Games Won'] / win_perc['Games Played'])*100"
   ]
  },
  {
   "cell_type": "code",
   "execution_count": 190,
   "metadata": {
    "collapsed": false
   },
   "outputs": [
    {
     "data": {
      "text/html": [
       "<div>\n",
       "<style>\n",
       "    .dataframe thead tr:only-child th {\n",
       "        text-align: right;\n",
       "    }\n",
       "\n",
       "    .dataframe thead th {\n",
       "        text-align: left;\n",
       "    }\n",
       "\n",
       "    .dataframe tbody tr th {\n",
       "        vertical-align: top;\n",
       "    }\n",
       "</style>\n",
       "<table border=\"1\" class=\"dataframe\">\n",
       "  <thead>\n",
       "    <tr style=\"text-align: right;\">\n",
       "      <th></th>\n",
       "      <th>index</th>\n",
       "      <th>Country</th>\n",
       "      <th>Games Played</th>\n",
       "      <th>Games Won</th>\n",
       "      <th>Win Percentage</th>\n",
       "    </tr>\n",
       "  </thead>\n",
       "  <tbody>\n",
       "    <tr>\n",
       "      <th>11</th>\n",
       "      <td>12</td>\n",
       "      <td>NZL</td>\n",
       "      <td>76</td>\n",
       "      <td>64</td>\n",
       "      <td>84.210526</td>\n",
       "    </tr>\n",
       "    <tr>\n",
       "      <th>15</th>\n",
       "      <td>16</td>\n",
       "      <td>SAF</td>\n",
       "      <td>61</td>\n",
       "      <td>39</td>\n",
       "      <td>63.934426</td>\n",
       "    </tr>\n",
       "    <tr>\n",
       "      <th>3</th>\n",
       "      <td>4</td>\n",
       "      <td>ENG</td>\n",
       "      <td>68</td>\n",
       "      <td>42</td>\n",
       "      <td>61.764706</td>\n",
       "    </tr>\n",
       "    <tr>\n",
       "      <th>7</th>\n",
       "      <td>8</td>\n",
       "      <td>IRE</td>\n",
       "      <td>57</td>\n",
       "      <td>35</td>\n",
       "      <td>61.403509</td>\n",
       "    </tr>\n",
       "    <tr>\n",
       "      <th>1</th>\n",
       "      <td>1</td>\n",
       "      <td>AUS</td>\n",
       "      <td>80</td>\n",
       "      <td>49</td>\n",
       "      <td>61.250000</td>\n",
       "    </tr>\n",
       "    <tr>\n",
       "      <th>5</th>\n",
       "      <td>6</td>\n",
       "      <td>FRA</td>\n",
       "      <td>76</td>\n",
       "      <td>44</td>\n",
       "      <td>57.894737</td>\n",
       "    </tr>\n",
       "    <tr>\n",
       "      <th>13</th>\n",
       "      <td>14</td>\n",
       "      <td>POR</td>\n",
       "      <td>2</td>\n",
       "      <td>1</td>\n",
       "      <td>50.000000</td>\n",
       "    </tr>\n",
       "    <tr>\n",
       "      <th>17</th>\n",
       "      <td>18</td>\n",
       "      <td>SCO</td>\n",
       "      <td>57</td>\n",
       "      <td>25</td>\n",
       "      <td>43.859649</td>\n",
       "    </tr>\n",
       "    <tr>\n",
       "      <th>20</th>\n",
       "      <td>21</td>\n",
       "      <td>WAL</td>\n",
       "      <td>73</td>\n",
       "      <td>31</td>\n",
       "      <td>42.465753</td>\n",
       "    </tr>\n",
       "    <tr>\n",
       "      <th>0</th>\n",
       "      <td>0</td>\n",
       "      <td>ARG</td>\n",
       "      <td>48</td>\n",
       "      <td>17</td>\n",
       "      <td>35.416667</td>\n",
       "    </tr>\n",
       "    <tr>\n",
       "      <th>8</th>\n",
       "      <td>9</td>\n",
       "      <td>ITA</td>\n",
       "      <td>52</td>\n",
       "      <td>17</td>\n",
       "      <td>32.692308</td>\n",
       "    </tr>\n",
       "    <tr>\n",
       "      <th>18</th>\n",
       "      <td>19</td>\n",
       "      <td>TON</td>\n",
       "      <td>13</td>\n",
       "      <td>4</td>\n",
       "      <td>30.769231</td>\n",
       "    </tr>\n",
       "    <tr>\n",
       "      <th>12</th>\n",
       "      <td>13</td>\n",
       "      <td>PAC</td>\n",
       "      <td>6</td>\n",
       "      <td>1</td>\n",
       "      <td>16.666667</td>\n",
       "    </tr>\n",
       "    <tr>\n",
       "      <th>16</th>\n",
       "      <td>17</td>\n",
       "      <td>SAM</td>\n",
       "      <td>24</td>\n",
       "      <td>4</td>\n",
       "      <td>16.666667</td>\n",
       "    </tr>\n",
       "    <tr>\n",
       "      <th>2</th>\n",
       "      <td>2</td>\n",
       "      <td>CAN</td>\n",
       "      <td>19</td>\n",
       "      <td>3</td>\n",
       "      <td>15.789474</td>\n",
       "    </tr>\n",
       "    <tr>\n",
       "      <th>14</th>\n",
       "      <td>15</td>\n",
       "      <td>ROM</td>\n",
       "      <td>20</td>\n",
       "      <td>2</td>\n",
       "      <td>10.000000</td>\n",
       "    </tr>\n",
       "    <tr>\n",
       "      <th>4</th>\n",
       "      <td>5</td>\n",
       "      <td>FIJ</td>\n",
       "      <td>24</td>\n",
       "      <td>2</td>\n",
       "      <td>8.333333</td>\n",
       "    </tr>\n",
       "    <tr>\n",
       "      <th>9</th>\n",
       "      <td>10</td>\n",
       "      <td>JAP</td>\n",
       "      <td>9</td>\n",
       "      <td>0</td>\n",
       "      <td>0.000000</td>\n",
       "    </tr>\n",
       "    <tr>\n",
       "      <th>6</th>\n",
       "      <td>7</td>\n",
       "      <td>GEO</td>\n",
       "      <td>3</td>\n",
       "      <td>0</td>\n",
       "      <td>0.000000</td>\n",
       "    </tr>\n",
       "    <tr>\n",
       "      <th>19</th>\n",
       "      <td>20</td>\n",
       "      <td>USA</td>\n",
       "      <td>8</td>\n",
       "      <td>0</td>\n",
       "      <td>0.000000</td>\n",
       "    </tr>\n",
       "    <tr>\n",
       "      <th>10</th>\n",
       "      <td>11</td>\n",
       "      <td>NAM</td>\n",
       "      <td>2</td>\n",
       "      <td>0</td>\n",
       "      <td>0.000000</td>\n",
       "    </tr>\n",
       "  </tbody>\n",
       "</table>\n",
       "</div>"
      ],
      "text/plain": [
       "    index Country  Games Played  Games Won  Win Percentage\n",
       "11     12     NZL            76         64       84.210526\n",
       "15     16     SAF            61         39       63.934426\n",
       "3       4     ENG            68         42       61.764706\n",
       "7       8     IRE            57         35       61.403509\n",
       "1       1     AUS            80         49       61.250000\n",
       "5       6     FRA            76         44       57.894737\n",
       "13     14     POR             2          1       50.000000\n",
       "17     18     SCO            57         25       43.859649\n",
       "20     21     WAL            73         31       42.465753\n",
       "0       0     ARG            48         17       35.416667\n",
       "8       9     ITA            52         17       32.692308\n",
       "18     19     TON            13          4       30.769231\n",
       "12     13     PAC             6          1       16.666667\n",
       "16     17     SAM            24          4       16.666667\n",
       "2       2     CAN            19          3       15.789474\n",
       "14     15     ROM            20          2       10.000000\n",
       "4       5     FIJ            24          2        8.333333\n",
       "9      10     JAP             9          0        0.000000\n",
       "6       7     GEO             3          0        0.000000\n",
       "19     20     USA             8          0        0.000000\n",
       "10     11     NAM             2          0        0.000000"
      ]
     },
     "execution_count": 190,
     "metadata": {},
     "output_type": "execute_result"
    }
   ],
   "source": [
    "win_perc.sort_values('Win Percentage', ascending = False)"
   ]
  },
  {
   "cell_type": "code",
   "execution_count": 191,
   "metadata": {
    "collapsed": false
   },
   "outputs": [
    {
     "data": {
      "text/plain": [
       "array([ 35.41666667,  61.25      ,  15.78947368,  61.76470588,\n",
       "         8.33333333,  57.89473684,   0.        ,  61.40350877,\n",
       "        32.69230769,   0.        ,   0.        ,  84.21052632,\n",
       "        16.66666667,  50.        ,  10.        ,  63.93442623,\n",
       "        16.66666667,  43.85964912,  30.76923077,   0.        ,  42.46575342])"
      ]
     },
     "execution_count": 191,
     "metadata": {},
     "output_type": "execute_result"
    }
   ],
   "source": [
    "win_perc['Win Percentage'].values"
   ]
  },
  {
   "cell_type": "code",
   "execution_count": 192,
   "metadata": {
    "collapsed": false
   },
   "outputs": [],
   "source": [
    "win_perc.sort_values('Win Percentage', ascending = False).to_csv(\"data/win_perc.csv\", sep = ',',index = False)"
   ]
  },
  {
   "cell_type": "code",
   "execution_count": 193,
   "metadata": {
    "collapsed": true
   },
   "outputs": [],
   "source": [
    "ord_win_perc = win_perc.sort_values('Win Percentage', ascending = False).reset_index()"
   ]
  },
  {
   "cell_type": "code",
   "execution_count": 194,
   "metadata": {
    "collapsed": false
   },
   "outputs": [
    {
     "data": {
      "text/plain": [
       "array(['NZL', 'SAF', 'ENG', 'IRE', 'AUS', 'FRA', 'POR', 'SCO', 'WAL',\n",
       "       'ARG', 'ITA', 'TON', 'PAC', 'SAM', 'CAN', 'ROM', 'FIJ', 'JAP',\n",
       "       'GEO', 'USA', 'NAM'], dtype=object)"
      ]
     },
     "execution_count": 194,
     "metadata": {},
     "output_type": "execute_result"
    }
   ],
   "source": [
    "ord_win_perc.Country.values"
   ]
  },
  {
   "cell_type": "code",
   "execution_count": 235,
   "metadata": {
    "collapsed": false
   },
   "outputs": [
    {
     "data": {
      "image/png": "[encoded data removed]",
      "text/plain": [
       "<matplotlib.figure.Figure at 0x22160e5eac8>"
      ]
     },
     "metadata": {},
     "output_type": "display_data"
    }
   ],
   "source": [
    "ind = np.arange(len(ord_win_perc))\n",
    "width = .5\n",
    "fig, ax = plt.subplots(figsize = (10,5))\n",
    "rect = ax.bar(ind,ord_win_perc['Win Percentage'].values,width, align='center')\n",
    "ax.set_xticks(ind+0.05)\n",
    "plt.xlim(-1, 21)\n",
    "ax.set_xticklabels(ord_win_perc.Country.values, rotation=90, fontsize=18)\n",
    "ax.set_ylabel(\"Win Percentage\", fontsize=18)\n",
    "plt.tight_layout()\n",
    "plt.savefig('figures/win_perc.png')\n",
    "plt.show()"
   ]
  },
  {
   "cell_type": "markdown",
   "metadata": {},
   "source": [
    "## Focus on a few of this years games"
   ]
  },
  {
   "cell_type": "markdown",
   "metadata": {
    "collapsed": true
   },
   "source": [
    "Ireland - SA\n",
    "\n",
    "England - Australia\n",
    "\n",
    "Wales - Australia\n",
    "\n",
    "Ireland - Argentina\n",
    "\n",
    "Scotland - NZ\n",
    "\n",
    "Scotland - Australia\n",
    "\n",
    "Wales - NZ\n",
    "\n",
    "Wales - SA"
   ]
  },
  {
   "cell_type": "markdown",
   "metadata": {},
   "source": [
    "### Ireland vs SA , Argentina"
   ]
  },
  {
   "cell_type": "code",
   "execution_count": 196,
   "metadata": {
    "collapsed": false
   },
   "outputs": [
    {
     "data": {
      "text/plain": [
       "SAF    4\n",
       "IRE    4\n",
       "Name: Winner, dtype: int64"
      ]
     },
     "execution_count": 196,
     "metadata": {},
     "output_type": "execute_result"
    }
   ],
   "source": [
    "df[(df['Match'] == 'IRE v SAF') | (df['Match'] == 'SAF v IRE')]['Winner'].value_counts()"
   ]
  },
  {
   "cell_type": "code",
   "execution_count": 197,
   "metadata": {
    "collapsed": false
   },
   "outputs": [
    {
     "data": {
      "text/plain": [
       "IRE    7\n",
       "Name: Winner, dtype: int64"
      ]
     },
     "execution_count": 197,
     "metadata": {},
     "output_type": "execute_result"
    }
   ],
   "source": [
    "df[(df['Match'] == 'IRE v ARG') | (df['Match'] == 'ARG v IRE')]['Winner'].value_counts()"
   ]
  },
  {
   "cell_type": "markdown",
   "metadata": {},
   "source": [
    "### England vs Argentina, Australia"
   ]
  },
  {
   "cell_type": "code",
   "execution_count": 198,
   "metadata": {
    "collapsed": false
   },
   "outputs": [
    {
     "data": {
      "text/plain": [
       "ENG    6\n",
       "ARG    1\n",
       "Name: Winner, dtype: int64"
      ]
     },
     "execution_count": 198,
     "metadata": {},
     "output_type": "execute_result"
    }
   ],
   "source": [
    "df[(df['Match'] == 'ENG v ARG') | (df['Match'] == 'ARG v ENG')]['Winner'].value_counts()"
   ]
  },
  {
   "cell_type": "code",
   "execution_count": 199,
   "metadata": {
    "collapsed": false
   },
   "outputs": [
    {
     "data": {
      "text/plain": [
       "ENG     10\n",
       "AUS      6\n",
       "Draw     1\n",
       "Name: Winner, dtype: int64"
      ]
     },
     "execution_count": 199,
     "metadata": {},
     "output_type": "execute_result"
    }
   ],
   "source": [
    "df[(df['Match'] == 'ENG v AUS') | (df['Match'] == 'AUS v ENG')]['Winner'].value_counts()"
   ]
  },
  {
   "cell_type": "markdown",
   "metadata": {},
   "source": [
    "### Wales vs Australia, SAF, NZ"
   ]
  },
  {
   "cell_type": "code",
   "execution_count": 200,
   "metadata": {
    "collapsed": false
   },
   "outputs": [
    {
     "data": {
      "text/plain": [
       "AUS     11\n",
       "WAL      3\n",
       "Draw     1\n",
       "Name: Winner, dtype: int64"
      ]
     },
     "execution_count": 200,
     "metadata": {},
     "output_type": "execute_result"
    }
   ],
   "source": [
    "df[(df['Match'] == 'WAL v AUS') | (df['Match'] == 'AUS v WAL')]['Winner'].value_counts()"
   ]
  },
  {
   "cell_type": "code",
   "execution_count": 201,
   "metadata": {
    "collapsed": false
   },
   "outputs": [
    {
     "data": {
      "text/plain": [
       "SAF    10\n",
       "WAL     2\n",
       "Name: Winner, dtype: int64"
      ]
     },
     "execution_count": 201,
     "metadata": {},
     "output_type": "execute_result"
    }
   ],
   "source": [
    "df[(df['Match'] == 'WAL v SAF') | (df['Match'] == 'SAF v WAL')]['Winner'].value_counts()"
   ]
  },
  {
   "cell_type": "code",
   "execution_count": 202,
   "metadata": {
    "collapsed": false
   },
   "outputs": [
    {
     "data": {
      "text/plain": [
       "NZL    13\n",
       "Name: Winner, dtype: int64"
      ]
     },
     "execution_count": 202,
     "metadata": {},
     "output_type": "execute_result"
    }
   ],
   "source": [
    "df[(df['Match'] == 'WAL v NZL') | (df['Match'] == 'NZL v WAL')]['Winner'].value_counts()"
   ]
  },
  {
   "cell_type": "markdown",
   "metadata": {},
   "source": [
    "### Scotland vs NZ, Australia"
   ]
  },
  {
   "cell_type": "code",
   "execution_count": 203,
   "metadata": {
    "collapsed": false
   },
   "outputs": [
    {
     "data": {
      "text/plain": [
       "NZL     9\n",
       "Draw    1\n",
       "Name: Winner, dtype: int64"
      ]
     },
     "execution_count": 203,
     "metadata": {},
     "output_type": "execute_result"
    }
   ],
   "source": [
    "df[(df['Match'] == 'SCO v NZL') | (df['Match'] == 'NZL v SCO')]['Winner'].value_counts()"
   ]
  },
  {
   "cell_type": "code",
   "execution_count": 204,
   "metadata": {
    "collapsed": false
   },
   "outputs": [
    {
     "data": {
      "text/plain": [
       "AUS    10\n",
       "SCO     2\n",
       "Name: Winner, dtype: int64"
      ]
     },
     "execution_count": 204,
     "metadata": {},
     "output_type": "execute_result"
    }
   ],
   "source": [
    "df[(df['Match'] == 'SCO v AUS') | (df['Match'] == 'AUS v SCO')]['Winner'].value_counts()"
   ]
  },
  {
   "cell_type": "code",
   "execution_count": null,
   "metadata": {
    "collapsed": true
   },
   "outputs": [],
   "source": []
  }
 ],
 "metadata": {
  "anaconda-cloud": {},
  "kernelspec": {
   "display_name": "Python [conda root]",
   "language": "python",
   "name": "conda-root-py"
  },
  "language_info": {
   "codemirror_mode": {
    "name": "ipython",
    "version": 3
   },
   "file_extension": ".py",
   "mimetype": "text/x-python",
   "name": "python",
   "nbconvert_exporter": "python",
   "pygments_lexer": "ipython3",
   "version": "3.5.2"
  }
 },
 "nbformat": 4,
 "nbformat_minor": 1
}
